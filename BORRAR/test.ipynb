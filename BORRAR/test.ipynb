{
 "cells": [
  {
   "cell_type": "code",
   "execution_count": 1,
   "metadata": {},
   "outputs": [
    {
     "name": "stdout",
     "output_type": "stream",
     "text": [
      "<class 'str'>\n"
     ]
    }
   ],
   "source": [
    "x = \"Hello World\"\n",
    "\n",
    "print(type(x))"
   ]
  },
  {
   "cell_type": "code",
   "execution_count": 2,
   "metadata": {},
   "outputs": [
    {
     "name": "stdout",
     "output_type": "stream",
     "text": [
      "si\n"
     ]
    }
   ],
   "source": [
    "if 5>3:\n",
    "    print(\"si\")"
   ]
  },
  {
   "cell_type": "code",
   "execution_count": 4,
   "metadata": {},
   "outputs": [],
   "source": [
    "x=2\n",
    "while x>5:\n",
    "    print(\"asdf\")"
   ]
  },
  {
   "cell_type": "code",
   "execution_count": null,
   "metadata": {},
   "outputs": [],
   "source": [
    "for i in range(20,0,-1):\n",
    "    print(i)"
   ]
  },
  {
   "cell_type": "code",
   "execution_count": 10,
   "metadata": {},
   "outputs": [
    {
     "data": {
      "text/plain": [
       "['manzana', 'banana', 'frutilla']"
      ]
     },
     "execution_count": 10,
     "metadata": {},
     "output_type": "execute_result"
    }
   ],
   "source": [
    "frutas= [\"manzana\", \"banana\", \"frutilla\"]\n",
    "frutas"
   ]
  },
  {
   "cell_type": "code",
   "execution_count": 11,
   "metadata": {},
   "outputs": [],
   "source": [
    "del frutas[2]"
   ]
  },
  {
   "cell_type": "code",
   "execution_count": 12,
   "metadata": {},
   "outputs": [
    {
     "data": {
      "text/plain": [
       "['manzana', 'banana']"
      ]
     },
     "execution_count": 12,
     "metadata": {},
     "output_type": "execute_result"
    }
   ],
   "source": [
    "frutas"
   ]
  },
  {
   "cell_type": "code",
   "execution_count": 16,
   "metadata": {},
   "outputs": [
    {
     "data": {
      "text/plain": [
       "3"
      ]
     },
     "execution_count": 16,
     "metadata": {},
     "output_type": "execute_result"
    }
   ],
   "source": [
    "fruits = [\"apple\", \"banana\", \"cherry\"]\n",
    "len(fruits)"
   ]
  },
  {
   "cell_type": "code",
   "execution_count": 17,
   "metadata": {},
   "outputs": [],
   "source": [
    "frutas = [\"manzana\", \"plátano\", \"cereza\", \"naranja\", \"kiwi\", \"melón\", \"mango\"]"
   ]
  },
  {
   "cell_type": "code",
   "execution_count": 19,
   "metadata": {},
   "outputs": [
    {
     "name": "stdout",
     "output_type": "stream",
     "text": [
      "['cereza', 'naranja', 'kiwi']\n"
     ]
    }
   ],
   "source": [
    "print(frutas[2:5])"
   ]
  },
  {
   "cell_type": "code",
   "execution_count": 1,
   "metadata": {},
   "outputs": [
    {
     "name": "stdout",
     "output_type": "stream",
     "text": [
      "Estoy haciendo deporte.\n",
      "Soy coqui y estoy jugando al fútbol.\n",
      "El hijo se llama coqui Argento\n"
     ]
    }
   ],
   "source": [
    "class Padre(): #Superclase\n",
    "    def __init__(self):\n",
    "        self.apellido = \"Argento\"\n",
    "\n",
    "    def hacer_deporte(self):\n",
    "        print(f\"Estoy haciendo deporte.\")\n",
    "\n",
    "\n",
    "class Hijo(Padre): #subclase\n",
    "    nombre = \"\"\n",
    "\n",
    "    def jugar(self):\n",
    "        print(f\"Soy {self.nombre} y estoy jugando al fútbol.\")\n",
    "\n",
    "\n",
    "#Programa principal\n",
    "\n",
    "hijo1 = Hijo()\n",
    "hijo1.nombre = \"coqui\"\n",
    "hijo1.hacer_deporte() #método del padre\n",
    "hijo1.jugar() #método propio\n",
    "\n",
    "#Imprimimos artibutos heredados del padre y propios\n",
    "print(f\"El hijo se llama {hijo1.nombre} {hijo1.apellido}\")"
   ]
  },
  {
   "cell_type": "code",
   "execution_count": 2,
   "metadata": {},
   "outputs": [
    {
     "name": "stdout",
     "output_type": "stream",
     "text": [
      "Estoy haciendo deporte.\n",
      "Soy Juan y estoy jugando al fútbol.\n"
     ]
    },
    {
     "data": {
      "text/plain": [
       "'Argento'"
      ]
     },
     "execution_count": 2,
     "metadata": {},
     "output_type": "execute_result"
    }
   ],
   "source": [
    "hijo2=Hijo()\n",
    "hijo2.nombre=\"Juan\"\n",
    "hijo2.hacer_deporte()\n",
    "hijo2.jugar()\n",
    "hijo2.apellido"
   ]
  },
  {
   "cell_type": "code",
   "execution_count": 3,
   "metadata": {},
   "outputs": [
    {
     "name": "stdout",
     "output_type": "stream",
     "text": [
      "Color: Rojo\n",
      "Ruedas: 2\n",
      "\n",
      "Color: Azul\n",
      "Ruedas: 4\n",
      "Tipo: AUTO\n",
      "Velocidad: 150 km/h\n",
      "Modelo: Ford\n"
     ]
    }
   ],
   "source": [
    "class Vehiculo(): #Superclase\n",
    "    def __init__(self, color, ruedas):\n",
    "        self.color = color\n",
    "        self.ruedas = ruedas\n",
    "\n",
    "    def __str__(self):\n",
    "        return f\"Color: {self.color}\\nRuedas: {self.ruedas}\"\n",
    "    \n",
    "    def andar(self):\n",
    "        print(f\"Estoy andando en {self.ruedas} ruedas.\")\n",
    "\n",
    "\n",
    "class Transporte(Vehiculo):\n",
    "    def __init__(self, color, ruedas, velocidad, modelo, tipo):\n",
    "        Vehiculo.__init__(self, color, ruedas) #atributos heredados\n",
    "        self.velocidad = velocidad\n",
    "        self.modelo = modelo\n",
    "        self.tipo = tipo\n",
    "\n",
    "    def __str__(self):\n",
    "        return Vehiculo.__str__(self) + f\"\\nTipo: {self.tipo.upper()}\\nVelocidad: {self.velocidad} km/h\\nModelo: {self.modelo}\"\n",
    "    \n",
    "#programa Principal\n",
    "vehiculo1 = Vehiculo(\"Rojo\", 2) #Instancia del padre\n",
    "print(vehiculo1)\n",
    "print()\n",
    "\n",
    "auto1= Transporte(\"Azul\", 4, 150,\"Ford\", \"Auto\")\n",
    "print(auto1)"
   ]
  },
  {
   "cell_type": "code",
   "execution_count": 1,
   "metadata": {},
   "outputs": [
    {
     "name": "stdout",
     "output_type": "stream",
     "text": [
      "Soy Fernando Osorio y juego al voley.\n",
      "Mi papá me lleva al colegio.\n",
      "Mamá me retira del colegio\n",
      "Mamá programa en Python.\n"
     ]
    }
   ],
   "source": [
    "#Herencia múltiple\n",
    "\n",
    "class Padre(): #Superclase\n",
    "    def __init__(self):\n",
    "        self.apellido = \"Pérez\"\n",
    "\n",
    "    def llevar(self):\n",
    "        print(f\"Mi papá me lleva al colegio.\")\n",
    "\n",
    "    \n",
    "    def programar(self):\n",
    "        print(f\"Papá programa en JAVA.\")\n",
    "\n",
    "\n",
    "class Madre(): #\"Superclase\"\n",
    "    def __init__(self):\n",
    "        self.apellido = \"Osorio\"\n",
    "\n",
    "    def retirar(self):\n",
    "        print(f\"Mamá me retira del colegio\")\n",
    "    \n",
    "    def programar(self):\n",
    "        print(f\"Mamá programa en Python.\")\n",
    "\n",
    "\n",
    "class Hijo(Madre, Padre):\n",
    "    nombre = \"\"\n",
    "\n",
    "\n",
    "    def jugar(self):\n",
    "        print(f\"Soy {self.nombre} {self.apellido} y juego al voley.\")\n",
    "\n",
    "#Programa Principal\n",
    "hijo1 = Hijo()\n",
    "hijo1.nombre = \"Fernando\"\n",
    "hijo1.jugar()\n",
    "hijo1.llevar()\n",
    "hijo1.retirar()\n",
    "hijo1.programar()\n"
   ]
  },
  {
   "cell_type": "code",
   "execution_count": 7,
   "metadata": {},
   "outputs": [
    {
     "name": "stdout",
     "output_type": "stream",
     "text": [
      "5.0\n",
      "Finished\n"
     ]
    }
   ],
   "source": [
    "try:\n",
    "\n",
    "    variable= 10\n",
    "\n",
    "    print(10 / 2)\n",
    "\n",
    "except ZeroDivisionError:\n",
    "\n",
    "    print(\"Error\")\n",
    "\n",
    "print(\"Finished\")\n",
    "\n"
   ]
  },
  {
   "cell_type": "code",
   "execution_count": 8,
   "metadata": {},
   "outputs": [
    {
     "name": "stdout",
     "output_type": "stream",
     "text": [
      "1\n",
      "3\n"
     ]
    }
   ],
   "source": [
    "try:\n",
    "\n",
    "    print(1)\n",
    "\n",
    "except:\n",
    "\n",
    "    print(2)\n",
    "\n",
    "finally:\n",
    "\n",
    "    print(3)"
   ]
  }
 ],
 "metadata": {
  "kernelspec": {
   "display_name": "Python 3",
   "language": "python",
   "name": "python3"
  },
  "language_info": {
   "codemirror_mode": {
    "name": "ipython",
    "version": 3
   },
   "file_extension": ".py",
   "mimetype": "text/x-python",
   "name": "python",
   "nbconvert_exporter": "python",
   "pygments_lexer": "ipython3",
   "version": "3.10.11"
  }
 },
 "nbformat": 4,
 "nbformat_minor": 2
}
