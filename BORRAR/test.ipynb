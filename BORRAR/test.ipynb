{
 "cells": [
  {
   "cell_type": "code",
   "execution_count": 1,
   "metadata": {},
   "outputs": [
    {
     "name": "stdout",
     "output_type": "stream",
     "text": [
      "<class 'str'>\n"
     ]
    }
   ],
   "source": [
    "x = \"Hello World\"\n",
    "\n",
    "print(type(x))"
   ]
  },
  {
   "cell_type": "code",
   "execution_count": 2,
   "metadata": {},
   "outputs": [
    {
     "name": "stdout",
     "output_type": "stream",
     "text": [
      "si\n"
     ]
    }
   ],
   "source": [
    "if 5>3:\n",
    "    print(\"si\")"
   ]
  },
  {
   "cell_type": "code",
   "execution_count": 4,
   "metadata": {},
   "outputs": [],
   "source": [
    "x=2\n",
    "while x>5:\n",
    "    print(\"asdf\")"
   ]
  },
  {
   "cell_type": "code",
   "execution_count": null,
   "metadata": {},
   "outputs": [],
   "source": [
    "for i in range(20,0,-1):\n",
    "    print(i)"
   ]
  },
  {
   "cell_type": "code",
   "execution_count": 10,
   "metadata": {},
   "outputs": [
    {
     "data": {
      "text/plain": [
       "['manzana', 'banana', 'frutilla']"
      ]
     },
     "execution_count": 10,
     "metadata": {},
     "output_type": "execute_result"
    }
   ],
   "source": [
    "frutas= [\"manzana\", \"banana\", \"frutilla\"]\n",
    "frutas"
   ]
  },
  {
   "cell_type": "code",
   "execution_count": 11,
   "metadata": {},
   "outputs": [],
   "source": [
    "del frutas[2]"
   ]
  },
  {
   "cell_type": "code",
   "execution_count": 12,
   "metadata": {},
   "outputs": [
    {
     "data": {
      "text/plain": [
       "['manzana', 'banana']"
      ]
     },
     "execution_count": 12,
     "metadata": {},
     "output_type": "execute_result"
    }
   ],
   "source": [
    "frutas"
   ]
  },
  {
   "cell_type": "code",
   "execution_count": 16,
   "metadata": {},
   "outputs": [
    {
     "data": {
      "text/plain": [
       "3"
      ]
     },
     "execution_count": 16,
     "metadata": {},
     "output_type": "execute_result"
    }
   ],
   "source": [
    "fruits = [\"apple\", \"banana\", \"cherry\"]\n",
    "len(fruits)"
   ]
  },
  {
   "cell_type": "code",
   "execution_count": 17,
   "metadata": {},
   "outputs": [],
   "source": [
    "frutas = [\"manzana\", \"plátano\", \"cereza\", \"naranja\", \"kiwi\", \"melón\", \"mango\"]"
   ]
  },
  {
   "cell_type": "code",
   "execution_count": 19,
   "metadata": {},
   "outputs": [
    {
     "name": "stdout",
     "output_type": "stream",
     "text": [
      "['cereza', 'naranja', 'kiwi']\n"
     ]
    }
   ],
   "source": [
    "print(frutas[2:5])"
   ]
  },
  {
   "cell_type": "code",
   "execution_count": 1,
   "metadata": {},
   "outputs": [
    {
     "name": "stdout",
     "output_type": "stream",
     "text": [
      "Estoy haciendo deporte.\n",
      "Soy coqui y estoy jugando al fútbol.\n",
      "El hijo se llama coqui Argento\n"
     ]
    }
   ],
   "source": [
    "class Padre(): #Superclase\n",
    "    def __init__(self):\n",
    "        self.apellido = \"Argento\"\n",
    "\n",
    "    def hacer_deporte(self):\n",
    "        print(f\"Estoy haciendo deporte.\")\n",
    "\n",
    "\n",
    "class Hijo(Padre): #subclase\n",
    "    nombre = \"\"\n",
    "\n",
    "    def jugar(self):\n",
    "        print(f\"Soy {self.nombre} y estoy jugando al fútbol.\")\n",
    "\n",
    "\n",
    "#Programa principal\n",
    "\n",
    "hijo1 = Hijo()\n",
    "hijo1.nombre = \"coqui\"\n",
    "hijo1.hacer_deporte() #método del padre\n",
    "hijo1.jugar() #método propio\n",
    "\n",
    "#Imprimimos artibutos heredados del padre y propios\n",
    "print(f\"El hijo se llama {hijo1.nombre} {hijo1.apellido}\")"
   ]
  }
 ],
 "metadata": {
  "kernelspec": {
   "display_name": "Python 3",
   "language": "python",
   "name": "python3"
  },
  "language_info": {
   "codemirror_mode": {
    "name": "ipython",
    "version": 3
   },
   "file_extension": ".py",
   "mimetype": "text/x-python",
   "name": "python",
   "nbconvert_exporter": "python",
   "pygments_lexer": "ipython3",
   "version": "3.10.11"
  }
 },
 "nbformat": 4,
 "nbformat_minor": 2
}
